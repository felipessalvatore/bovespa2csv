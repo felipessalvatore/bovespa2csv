{
 "cells": [
  {
   "cell_type": "code",
   "execution_count": 1,
   "metadata": {},
   "outputs": [
    {
     "name": "stderr",
     "output_type": "stream",
     "text": [
      "/usr/lib/python3.5/importlib/_bootstrap.py:222: RuntimeWarning: numpy.dtype size changed, may indicate binary incompatibility. Expected 96, got 88\n",
      "  return f(*args, **kwds)\n",
      "/usr/lib/python3.5/importlib/_bootstrap.py:222: RuntimeWarning: numpy.dtype size changed, may indicate binary incompatibility. Expected 96, got 88\n",
      "  return f(*args, **kwds)\n"
     ]
    }
   ],
   "source": [
    "import pandas as pd\n",
    "import numpy as np\n",
    "import os"
   ]
  },
  {
   "cell_type": "code",
   "execution_count": 2,
   "metadata": {},
   "outputs": [],
   "source": [
    "with open(os.path.join(\"toy_data\", \"example.txt\"), \"r\") as file:\n",
    "    header = file.readline()\n",
    "    _ = file.readline()\n",
    "    first_line = file.readline()     "
   ]
  },
  {
   "cell_type": "code",
   "execution_count": 3,
   "metadata": {},
   "outputs": [
    {
     "data": {
      "text/plain": [
       "'012017010202AALR3       010ALLIAR      ON      NM   R$  000000000146200000000014880000000001440000000000145800000000014600000000001460000000000147300087000000000000035900000000000052350500000000000000009999123100000010000000000000BRAALRACNOR6100\\n'"
      ]
     },
     "execution_count": 3,
     "metadata": {},
     "output_type": "execute_result"
    }
   ],
   "source": [
    "first_line"
   ]
  },
  {
   "cell_type": "code",
   "execution_count": 49,
   "metadata": {},
   "outputs": [],
   "source": [
    "collum_name = {}\n",
    "\n",
    "\n",
    "TIPO_DE_REGISTRO = [] # FIXO 01\n",
    "DATA_DO_PREGAO = []  # FORMATO AAAAMMDD\n",
    "CODBDI = [] # UTILIZADO PARA CLASSIFICAR OS PAPÉIS NA EMISSÃO DO BOLETIM DIÁRIO DE INFORMAÇÕES\n",
    "CODNEG = []\n",
    "TPMERC = [] # CÓD. DO MERCADO EM QUE O PAPEL ESTÁ CADASTRADO\n",
    "NOMRES = []\n",
    "ESPECI = []\n",
    "PRAZOT = []\n",
    "MODREF = [] # moeda usada na data do pregao\n",
    "PREABE = [] # dois ultimos digitos sao as casas decimais depois da virgula\n",
    "PREMAX = [] # dois ultimos digitos sao as casas decimais depois da virgula\n",
    "PREMIN = [] # dois ultimos digitos sao as casas decimais depois da virgula\n",
    "PREMED = [] # dois ultimos digitos sao as casas decimais depois da virgula\n",
    "PREULT = [] # dois ultimos digitos sao as casas decimais depois da virgula\n",
    "PREOFC = [] # dois ultimos digitos sao as casas decimais depois da virgula\n",
    "PREOFV = [] # dois ultimos digitos sao as casas decimais depois da virgula\n",
    "TOTNEG = []\n",
    "QUATOT = []\n",
    "VOLTOT = []\n",
    "PREEXE = []\n",
    "INDOPC = []\n",
    "DATVEN = []\n",
    "FATCOT = [] # ‘1’ = COTAÇÃO UNITÁRIA / ‘1000’ = COTAÇÃO POR LOTE DE MIL AÇÕES\n",
    "PTOEXE = [] # PARA OS REFERENCIADOS EM DÓLAR, CADA PONTO EQUIVALE AO VALOR, NA MOEDA CORRENTE, DE UM CENTÉSIMO DA TAXA MÉDIA DO DÓLAR COMERCIAL INTERBANCÁRIO DE FECHAMENTO DO DIA ANTERIOR, OU SEJA, 1 PONTO = 1/100 US$\n",
    "CODISI = [] # CÓDIGO DO PAPEL NO SISTEMA ISIN A PARTIR DE 15-05-1995\n",
    "DISMES = [] # NÚMERO DE SEQÜÊNCIA DO PAPEL CORRESPONDENTE AO ESTADO DE DIREITO VIGENTE\n",
    "\n",
    "\n",
    "collum_name[\"tipo de registro\"] = TIPO_DE_REGISTRO\n",
    "collum_name[\"data do pregao\"] = DATA_DO_PREGAO\n",
    "collum_name[\"codigo bdi\"] = CODBDI\n",
    "collum_name[\"codigo de negociação do papel\"] = CODNEG\n",
    "collum_name[\"tipo de mercado\"] = TPMERC\n",
    "collum_name[\"nome resumido da empresa emissora do papel\"] = NOMRES\n",
    "collum_name[\"especificacao do papel\"] = ESPECI\n",
    "collum_name[\"prazo em dias do mercado a termo\"] = PRAZOT\n",
    "collum_name[\"moeda de referencia\"] = MODREF\n",
    "collum_name[\"preco de abertura do papel-mercado no pregao\"] = PREABE\n",
    "collum_name[\"preco maximo do papel-mercado no pregao\"] = PREMAX\n",
    "collum_name[\"preco minimo do papel-mercado no pregao\"] = PREMIN\n",
    "collum_name[\"preco medio do papel-mercado no pregao\"] = PREMED\n",
    "collum_name[\"preco do ultimo negocio do papel-mercado no pregao\"] = PREULT\n",
    "collum_name[\"preco da melhor oferta de compra do papel-mercado no pregao\"] = PREOFC\n",
    "collum_name[\"preco da melhor oferta de venda do papel-mercado no pregao\"] = PREOFV\n",
    "collum_name[\"numero de negocios efetuados com o papel mercado no pregao\"] = TOTNEG\n",
    "collum_name[\"quantidade total de titulos negociados neste papel-mercado\"] = QUATOT\n",
    "collum_name[\"volume total de titulos negociados neste papel-mercado\"] = VOLTOT\n",
    "collum_name[\"preco de exercicio para o mercado de opcoes ou valor do contrato para o mercado de  termo secundario\"] = PREEXE\n",
    "collum_name['indicador de correção de preços de exercícios ou valores de contrato para os mercados de opções ou termo secundário'] = INDOPC\n",
    "collum_name['data do vencimento para os mercados de opções ou termo secundário'] = DATVEN\n",
    "collum_name['fator de cotação do papel'] = FATCOT\n",
    "collum_name['preço de exercício em pontos para opções referenciadas em dólar ou valor de contrato em pontos para termo secundário'] = PTOEXE\n",
    "collum_name['código do papel no sistema isin ou código interno do papel'] = CODISI\n",
    "collum_name['número de distribuição do papel'] = DISMES"
   ]
  },
  {
   "cell_type": "code",
   "execution_count": 48,
   "metadata": {},
   "outputs": [
    {
     "data": {
      "text/plain": [
       "'número de distribuição do papel'"
      ]
     },
     "execution_count": 48,
     "metadata": {},
     "output_type": "execute_result"
    }
   ],
   "source": [
    "\"NÚMERO DE DISTRIBUIÇÃO DO PAPEL\".lower()"
   ]
  },
  {
   "cell_type": "code",
   "execution_count": 5,
   "metadata": {},
   "outputs": [
    {
     "name": "stdout",
     "output_type": "stream",
     "text": [
      "01 size = 2\n"
     ]
    }
   ],
   "source": [
    "part = first_line[:2]\n",
    "TIPO_DE_REGISTRO.append(part)\n",
    "print(part , \"size = {}\".format(len(part)))"
   ]
  },
  {
   "cell_type": "code",
   "execution_count": 6,
   "metadata": {},
   "outputs": [
    {
     "name": "stdout",
     "output_type": "stream",
     "text": [
      "20170102 size = 8\n"
     ]
    }
   ],
   "source": [
    "part = first_line[2:10]\n",
    "DATA_DO_PREGAO.append(part)\n",
    "print(part , \"size = {}\".format(len(part)))"
   ]
  },
  {
   "cell_type": "code",
   "execution_count": 7,
   "metadata": {},
   "outputs": [
    {
     "name": "stdout",
     "output_type": "stream",
     "text": [
      "02 size = 2\n"
     ]
    }
   ],
   "source": [
    "part = first_line[10:12]\n",
    "CODBDI.append(part)\n",
    "print(part , \"size = {}\".format(len(part)))"
   ]
  },
  {
   "cell_type": "code",
   "execution_count": 8,
   "metadata": {},
   "outputs": [
    {
     "name": "stdout",
     "output_type": "stream",
     "text": [
      "AALR3        size = 12\n"
     ]
    }
   ],
   "source": [
    "part = first_line[12:24]\n",
    "CODNEG.append(part)\n",
    "print(part , \"size = {}\".format(len(part)))"
   ]
  },
  {
   "cell_type": "code",
   "execution_count": 9,
   "metadata": {},
   "outputs": [
    {
     "name": "stdout",
     "output_type": "stream",
     "text": [
      "010 size = 3\n"
     ]
    }
   ],
   "source": [
    "part = first_line[24:27]\n",
    "TPMERC.append(part)\n",
    "print(part , \"size = {}\".format(len(part)))"
   ]
  },
  {
   "cell_type": "code",
   "execution_count": 10,
   "metadata": {},
   "outputs": [
    {
     "name": "stdout",
     "output_type": "stream",
     "text": [
      "ALLIAR       size = 12\n"
     ]
    }
   ],
   "source": [
    "part = first_line[27:39]\n",
    "NOMRES.append(part)\n",
    "print(part , \"size = {}\".format(len(part)))"
   ]
  },
  {
   "cell_type": "code",
   "execution_count": 11,
   "metadata": {},
   "outputs": [
    {
     "name": "stdout",
     "output_type": "stream",
     "text": [
      "ON      NM size = 10\n"
     ]
    }
   ],
   "source": [
    "part = first_line[39:49]\n",
    "ESPECI.append(part)\n",
    "print(part , \"size = {}\".format(len(part)))"
   ]
  },
  {
   "cell_type": "code",
   "execution_count": 12,
   "metadata": {},
   "outputs": [
    {
     "name": "stdout",
     "output_type": "stream",
     "text": [
      "    size = 3\n"
     ]
    }
   ],
   "source": [
    "part = first_line[49:52]\n",
    "PRAZOT.append(part)\n",
    "print(part , \"size = {}\".format(len(part)))"
   ]
  },
  {
   "cell_type": "code",
   "execution_count": 13,
   "metadata": {},
   "outputs": [
    {
     "name": "stdout",
     "output_type": "stream",
     "text": [
      "R$   size = 4\n"
     ]
    }
   ],
   "source": [
    "part = first_line[52:56]\n",
    "MODREF.append(part)\n",
    "print(part , \"size = {}\".format(len(part)))"
   ]
  },
  {
   "cell_type": "code",
   "execution_count": 14,
   "metadata": {},
   "outputs": [
    {
     "name": "stdout",
     "output_type": "stream",
     "text": [
      "0000000001462 size = 13\n",
      "14.62\n"
     ]
    }
   ],
   "source": [
    "part = first_line[56:69]\n",
    "print(part , \"size = {}\".format(len(part)))\n",
    "part = float(part) / 100\n",
    "PREABE.append(part)\n",
    "print(part)"
   ]
  },
  {
   "cell_type": "code",
   "execution_count": 15,
   "metadata": {},
   "outputs": [
    {
     "name": "stdout",
     "output_type": "stream",
     "text": [
      "0000000001488 size = 13\n",
      "14.88\n"
     ]
    }
   ],
   "source": [
    "part = first_line[69:82]\n",
    "print(part , \"size = {}\".format(len(part)))\n",
    "part = float(part) / 100\n",
    "PREMAX.append(part)\n",
    "print(part)"
   ]
  },
  {
   "cell_type": "code",
   "execution_count": 16,
   "metadata": {},
   "outputs": [
    {
     "name": "stdout",
     "output_type": "stream",
     "text": [
      "0000000001440 size = 13\n",
      "14.4\n"
     ]
    }
   ],
   "source": [
    "part = first_line[82:95]\n",
    "print(part , \"size = {}\".format(len(part)))\n",
    "part = float(part) / 100\n",
    "PREMIN.append(part)\n",
    "print(part)"
   ]
  },
  {
   "cell_type": "code",
   "execution_count": 17,
   "metadata": {},
   "outputs": [
    {
     "name": "stdout",
     "output_type": "stream",
     "text": [
      "0000000001458 size = 13\n",
      "14.58\n"
     ]
    }
   ],
   "source": [
    "part = first_line[95:108]\n",
    "print(part , \"size = {}\".format(len(part)))\n",
    "part = float(part) / 100\n",
    "PREMED.append(part)\n",
    "print(part)"
   ]
  },
  {
   "cell_type": "code",
   "execution_count": 18,
   "metadata": {},
   "outputs": [
    {
     "name": "stdout",
     "output_type": "stream",
     "text": [
      "0000000001460 size = 13\n",
      "14.6\n"
     ]
    }
   ],
   "source": [
    "part = first_line[108:121]\n",
    "print(part , \"size = {}\".format(len(part)))\n",
    "part = float(part) / 100\n",
    "PREULT.append(part)\n",
    "print(part)"
   ]
  },
  {
   "cell_type": "code",
   "execution_count": 19,
   "metadata": {},
   "outputs": [
    {
     "name": "stdout",
     "output_type": "stream",
     "text": [
      "0000000001460 size = 13\n",
      "14.6\n"
     ]
    }
   ],
   "source": [
    "part = first_line[121:134]\n",
    "print(part , \"size = {}\".format(len(part)))\n",
    "part = float(part) / 100\n",
    "PREOFC.append(part)\n",
    "print(part)"
   ]
  },
  {
   "cell_type": "code",
   "execution_count": 20,
   "metadata": {},
   "outputs": [
    {
     "name": "stdout",
     "output_type": "stream",
     "text": [
      "0000000001473 size = 13\n",
      "14.73\n"
     ]
    }
   ],
   "source": [
    "part = first_line[134:147]\n",
    "print(part , \"size = {}\".format(len(part)))\n",
    "part = float(part) / 100\n",
    "PREOFV.append(part)\n",
    "print(part)"
   ]
  },
  {
   "cell_type": "code",
   "execution_count": 21,
   "metadata": {},
   "outputs": [
    {
     "name": "stdout",
     "output_type": "stream",
     "text": [
      "00087 size = 5\n"
     ]
    }
   ],
   "source": [
    "part = first_line[147:152]\n",
    "print(part , \"size = {}\".format(len(part)))\n",
    "TOTNEG.append(int(part))"
   ]
  },
  {
   "cell_type": "code",
   "execution_count": 22,
   "metadata": {},
   "outputs": [
    {
     "name": "stdout",
     "output_type": "stream",
     "text": [
      "000000000000035900 size = 18\n"
     ]
    }
   ],
   "source": [
    "part = first_line[152:170]\n",
    "print(part , \"size = {}\".format(len(part)))\n",
    "QUATOT.append(int(part))"
   ]
  },
  {
   "cell_type": "code",
   "execution_count": 25,
   "metadata": {},
   "outputs": [
    {
     "name": "stdout",
     "output_type": "stream",
     "text": [
      "000000000052350500 size = 18\n",
      "523505.0\n"
     ]
    }
   ],
   "source": [
    "part = first_line[170:188]\n",
    "print(part , \"size = {}\".format(len(part)))\n",
    "part = float(part) / 100\n",
    "VOLTOT.append(part)\n",
    "print(part)"
   ]
  },
  {
   "cell_type": "code",
   "execution_count": 28,
   "metadata": {},
   "outputs": [
    {
     "name": "stdout",
     "output_type": "stream",
     "text": [
      "0000000000000 size = 13\n",
      "0.0\n"
     ]
    }
   ],
   "source": [
    "part = first_line[188:201]\n",
    "print(part , \"size = {}\".format(len(part)))\n",
    "part = float(part) / 100\n",
    "PREEXE.append(part)\n",
    "print(part)"
   ]
  },
  {
   "cell_type": "code",
   "execution_count": 34,
   "metadata": {},
   "outputs": [
    {
     "name": "stdout",
     "output_type": "stream",
     "text": [
      "0 size = 1\n"
     ]
    }
   ],
   "source": [
    "part = first_line[201:202]\n",
    "INDOPC.append(part)\n",
    "print(part , \"size = {}\".format(len(part)))"
   ]
  },
  {
   "cell_type": "code",
   "execution_count": 37,
   "metadata": {},
   "outputs": [
    {
     "name": "stdout",
     "output_type": "stream",
     "text": [
      "99991231 size = 8\n"
     ]
    }
   ],
   "source": [
    "part = first_line[202:210]\n",
    "DATVEN.append(part)\n",
    "print(part , \"size = {}\".format(len(part)))"
   ]
  },
  {
   "cell_type": "code",
   "execution_count": 41,
   "metadata": {},
   "outputs": [
    {
     "name": "stdout",
     "output_type": "stream",
     "text": [
      "0000001 size = 7\n"
     ]
    }
   ],
   "source": [
    "part = first_line[210:217]\n",
    "FATCOT.append(int(part))\n",
    "print(part , \"size = {}\".format(len(part)))"
   ]
  },
  {
   "cell_type": "code",
   "execution_count": 43,
   "metadata": {},
   "outputs": [
    {
     "name": "stdout",
     "output_type": "stream",
     "text": [
      "0000000000000 size = 13\n",
      "0.0\n"
     ]
    }
   ],
   "source": [
    "part = first_line[217:230]\n",
    "print(part , \"size = {}\".format(len(part)))\n",
    "part = float(part) / 100\n",
    "PREEXE.append(part)\n",
    "print(part)"
   ]
  },
  {
   "cell_type": "code",
   "execution_count": 47,
   "metadata": {},
   "outputs": [
    {
     "name": "stdout",
     "output_type": "stream",
     "text": [
      "BRAALRACNOR6 size = 12\n"
     ]
    }
   ],
   "source": [
    "part = first_line[230:242]\n",
    "CODISI.append(part)\n",
    "print(part , \"size = {}\".format(len(part)))"
   ]
  },
  {
   "cell_type": "code",
   "execution_count": 50,
   "metadata": {},
   "outputs": [
    {
     "name": "stdout",
     "output_type": "stream",
     "text": [
      "100 size = 3\n"
     ]
    }
   ],
   "source": [
    "part = first_line[242:245]\n",
    "DISMES.append(part)\n",
    "print(part , \"size = {}\".format(len(part)))"
   ]
  }
 ],
 "metadata": {
  "kernelspec": {
   "display_name": "Python 3",
   "language": "python",
   "name": "python3"
  },
  "language_info": {
   "codemirror_mode": {
    "name": "ipython",
    "version": 3
   },
   "file_extension": ".py",
   "mimetype": "text/x-python",
   "name": "python",
   "nbconvert_exporter": "python",
   "pygments_lexer": "ipython3",
   "version": "3.5.2"
  }
 },
 "nbformat": 4,
 "nbformat_minor": 2
}
